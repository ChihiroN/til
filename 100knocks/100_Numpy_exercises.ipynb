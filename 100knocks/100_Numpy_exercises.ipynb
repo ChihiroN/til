{
  "nbformat": 4,
  "nbformat_minor": 0,
  "metadata": {
    "colab": {
      "provenance": [],
      "authorship_tag": "ABX9TyOHa8g3EBnYEoTmkGCUjX+0",
      "include_colab_link": true
    },
    "kernelspec": {
      "name": "python3",
      "display_name": "Python 3"
    },
    "language_info": {
      "name": "python"
    }
  },
  "cells": [
    {
      "cell_type": "markdown",
      "metadata": {
        "id": "view-in-github",
        "colab_type": "text"
      },
      "source": [
        "<a href=\"https://colab.research.google.com/github/ChihiroN/til/blob/main/100knocks/100_Numpy_exercises.ipynb\" target=\"_parent\"><img src=\"https://colab.research.google.com/assets/colab-badge.svg\" alt=\"Open In Colab\"/></a>"
      ]
    },
    {
      "cell_type": "markdown",
      "source": [
        "This is a collection of exercises that have been collected in the numpy mailing list, on stack overflow\n",
        "and in the numpy documentation. The goal of this collection is to offer a quick reference for both old\n",
        "and new users but also to provide a set of exercises for those who teach."
      ],
      "metadata": {
        "id": "vZbBjJiuGrUv"
      }
    },
    {
      "cell_type": "markdown",
      "source": [
        "[100 numpy exercises](https://github.com/rougier/numpy-100/blob/master/100_Numpy_exercises.md)"
      ],
      "metadata": {
        "id": "9AJCQLb4GrNr"
      }
    },
    {
      "cell_type": "markdown",
      "source": [
        "[1. Import the numpy package under the name np (★☆☆)]('001')<br>\n",
        "[2. Print the numpy version and the configuration (★☆☆)]('002')<br>\n",
        "[3. Create a null vector of size 10 (★☆☆)]('003')<br>\n",
        "[4. How to find the memory size of any array (★☆☆)]('004')<br>\n",
        "[5. How to get the documentation of the numpy add function from the command line? (★☆☆)]('005')<br>\n",
        "[6. Create a null vector of size 10 but the fifth value which is 1 (★☆☆)]('006')<br>\n",
        "[7. Create a vector with values ranging from 10 to 49 (★☆☆)]('007')<br>\n",
        "[8. Reverse a vector (first element becomes last) (★☆☆)]('008')<br>\n",
        "[9. Create a 3x3 matrix with values ranging from 0 to 8 (★☆☆)]('009')<br>\n",
        "[10. Find indices of non-zero elements from [1,2,0,0,4,0] (★☆☆)]('010')<br>\n",
        "<br>\n",
        "\n",
        "[11. Create a 3x3 identity matrix (★☆☆)]('011')<br>\n",
        "[12. Create a 3x3x3 array with random values (★☆☆)]('012')<br>\n",
        "[13. Create a 10x10 array with random values and find the minimum and maximum values (★☆☆)]('013')<br>\n",
        "[14. Create a random vector of size 30 and find the mean value (★☆☆)]('014')<br>\n",
        "[15. Create a 2d array with 1 on the border and 0 inside (★☆☆)]('015')<br>\n",
        "[16. How to add a border (filled with 0's) around an existing array? (★☆☆)]('016')<br>\n",
        "[17. What is the result of the following expression? (★☆☆)]('017')<br>\n",
        "[18. Create a 5x5 matrix with values 1,2,3,4 just below the diagonal (★☆☆)]('018')<br>\n",
        "[19. Create a 8x8 matrix and fill it with a checkerboard pattern (★☆☆)]('019')<br>\n",
        "[20. Consider a (6,7,8) shape array, what is the index (x,y,z) of the 100th elemnt? (★☆☆)]('020')<br>\n",
        "<br>\n",
        "\n",
        "[21. Create a checkerboard 8x8 matrix using the tile function (★☆☆)]('021')<br>\n",
        "[22. Normalize a 5x5 random matrix (★☆☆)]('022')<br>\n",
        "[23. Create a custom dtype that describes a color as four unsigned bytes (RGBA) (★☆☆)]('023')<br>\n",
        "[24. Multiply a 5x3 matrix by a 3x2 matrix (real matrix product) (★☆☆)]('024')<br>\n",
        "[25. Given a 1D array, negate all elements which are between 3 and 8, in place. (★☆☆)]('025')<br>\n",
        "[26. What is the output of the following script? (★☆☆)]('026')<br>\n",
        "[27. Consider an integer vector Z, which of these expressions are legal? (★☆☆)]('027')<br>\n",
        "[28. What are the result of the following expressions? (★☆☆)]('028')<br>\n",
        "[29. How to round away from zero a float array ? (★☆☆)]('029')<br>\n",
        "[30. How to find common values between two arrays? (★☆☆)]('030')<br>\n",
        "<br>\n",
        "[]()<br>"
      ],
      "metadata": {
        "id": "qQ6LIX5GG035"
      }
    },
    {
      "cell_type": "markdown",
      "source": [
        "#### <a id='001'>1. Import the numpy package under the name `np` (★☆☆)</a>"
      ],
      "metadata": {
        "id": "o4taKWlwHEBC"
      }
    },
    {
      "cell_type": "code",
      "source": [
        "import numpy as np"
      ],
      "metadata": {
        "id": "TX3v0TUDHTPv"
      },
      "execution_count": null,
      "outputs": []
    },
    {
      "cell_type": "markdown",
      "source": [
        "#### <a id='002'> 2. Print the numpy version and the configuration (★☆☆)</a>"
      ],
      "metadata": {
        "id": "vO461LqwH5lY"
      }
    },
    {
      "cell_type": "code",
      "source": [
        "print(np.__version__)"
      ],
      "metadata": {
        "id": "rcHWx3eTGqXs"
      },
      "execution_count": null,
      "outputs": []
    },
    {
      "cell_type": "markdown",
      "source": [
        "#### <a id='003'> 3. Create a null vector of size 10 (★☆☆) </a>"
      ],
      "metadata": {
        "id": "MiuSd_0vILiD"
      }
    },
    {
      "cell_type": "code",
      "source": [
        "a=np.zeros(10)\n",
        "print(a)"
      ],
      "metadata": {
        "id": "K3c3RZFvGqPE"
      },
      "execution_count": null,
      "outputs": []
    },
    {
      "cell_type": "markdown",
      "source": [
        "#### <a id='004'>4. How to find the memory size of any array (★☆☆)</a>"
      ],
      "metadata": {
        "id": "utEsvtl1IXde"
      }
    },
    {
      "cell_type": "code",
      "execution_count": null,
      "metadata": {
        "id": "Da3JrWKWGlei"
      },
      "outputs": [],
      "source": [
        "a=np.zeros(10)\n",
        "print('Size of array: ',a.size)\n",
        "print('Memory size of one array memory in bytes: ',a.itemsize)\n",
        "print('Memory size of array in bytes: ',a.size*a.itemsize)"
      ]
    },
    {
      "cell_type": "markdown",
      "source": [
        "#### <a id='005'>5. How to get the documentation of the numpy add function from the command line? (★☆☆)</a>"
      ],
      "metadata": {
        "id": "b0NtbubmJL5r"
      }
    },
    {
      "cell_type": "code",
      "source": [
        "%run 'python -c \"import numpy; numpy.info(numpy.add)'"
      ],
      "metadata": {
        "id": "KfDbHmiwJNxG"
      },
      "execution_count": null,
      "outputs": []
    },
    {
      "cell_type": "markdown",
      "source": [
        "#### <a id='006'>6. Create a null vector of size 10 but the fifth value which is 1 (★☆☆)</a>"
      ],
      "metadata": {
        "id": "a4rmx4TVJOlO"
      }
    },
    {
      "cell_type": "code",
      "source": [
        "a=np.zeros(10)\n",
        "a[4]=1\n",
        "print(a)"
      ],
      "metadata": {
        "id": "NahyVbBeJMJq"
      },
      "execution_count": null,
      "outputs": []
    },
    {
      "cell_type": "markdown",
      "source": [
        "#### <a id='007'>7. Create a vector with values ranging from 10 to 49 (★☆☆)</a>"
      ],
      "metadata": {
        "id": "xkIG-KJTJMlm"
      }
    },
    {
      "cell_type": "code",
      "source": [
        "a=np.arange(10,50)\n",
        "print(a)"
      ],
      "metadata": {
        "id": "QT97aL0IJMz-"
      },
      "execution_count": null,
      "outputs": []
    },
    {
      "cell_type": "markdown",
      "source": [
        "#### <a id='008'>8. Reverse a vector (first element becomes last) (★☆☆)</a>"
      ],
      "metadata": {
        "id": "1tNdBY_sJSsG"
      }
    },
    {
      "cell_type": "code",
      "source": [
        "a=np.arange(10)\n",
        "a=a[::-1]\n",
        "print(a)"
      ],
      "metadata": {
        "id": "IxpMx3eqJVds"
      },
      "execution_count": null,
      "outputs": []
    },
    {
      "cell_type": "markdown",
      "source": [
        "[numpy.flip](https://numpy.org/doc/stable/reference/generated/numpy.flip.html)"
      ],
      "metadata": {
        "id": "Em6FfAP55ILQ"
      }
    },
    {
      "cell_type": "markdown",
      "source": [
        "####<a id='009'>9. Create a 3x3 matrix with values ranging from 0 to 8 (★☆☆)</a>"
      ],
      "metadata": {
        "id": "BsCw-k4wJVIv"
      }
    },
    {
      "cell_type": "code",
      "source": [
        "a=np.arange(9).reshape(3,3)\n",
        "print(a)"
      ],
      "metadata": {
        "id": "njtdaVcDJXYJ"
      },
      "execution_count": null,
      "outputs": []
    },
    {
      "cell_type": "markdown",
      "source": [
        "#### <a id='010'>10. Find indices of non-zero elements from [1,2,0,0,4,0] (★☆☆)</a>"
      ],
      "metadata": {
        "id": "CXluuTIpJXmL"
      }
    },
    {
      "cell_type": "code",
      "source": [
        "a=np.nonzero([1,2,0,0,4,0])\n",
        "print(a)"
      ],
      "metadata": {
        "id": "Jfrw5bhRJbOq"
      },
      "execution_count": null,
      "outputs": []
    },
    {
      "cell_type": "markdown",
      "source": [
        "#### 11. Create a 3x3 identity matrix (★☆☆)"
      ],
      "metadata": {
        "id": "ORrN3nY14YwO"
      }
    },
    {
      "cell_type": "code",
      "source": [
        "a=np.eye(3)\n",
        "print(a)"
      ],
      "metadata": {
        "id": "lRT7M2A-4YU6"
      },
      "execution_count": null,
      "outputs": []
    },
    {
      "cell_type": "markdown",
      "source": [
        "### 12. Create a 3x3x3 array with random values (★☆☆)"
      ],
      "metadata": {
        "id": "NnjYwzZt4ZGq"
      }
    },
    {
      "cell_type": "code",
      "source": [
        "a=np.random.random((3,3,3))\n",
        "print(a)"
      ],
      "metadata": {
        "id": "PnCVhtP54ZU8"
      },
      "execution_count": null,
      "outputs": []
    },
    {
      "cell_type": "markdown",
      "source": [
        "#### 13. Create a 10x10 array with random values and find the minimum and maximum values (★☆☆)"
      ],
      "metadata": {
        "id": "SaB0MPp269Pn"
      }
    },
    {
      "cell_type": "code",
      "source": [
        "a=np.random.random((10,10))\n",
        "min_a,max_a=a.min(),a.mzx()\n",
        "print(min_a,max_a)"
      ],
      "metadata": {
        "id": "Ew9IqbxZ688M"
      },
      "execution_count": null,
      "outputs": []
    },
    {
      "cell_type": "markdown",
      "source": [
        "#### 14. Create a random vector of size 30 and find the mean value (★☆☆)"
      ],
      "metadata": {
        "id": "FqkfxRMq69ln"
      }
    },
    {
      "cell_type": "code",
      "source": [
        "a=np.random.random(30)\n",
        "m=a.mean(a)\n",
        "print(m)"
      ],
      "metadata": {
        "id": "2yVIaVgq69xF"
      },
      "execution_count": null,
      "outputs": []
    },
    {
      "cell_type": "markdown",
      "source": [
        "#### 15. Create a 2d array with 1 on the border and 0 inside (★☆☆)"
      ],
      "metadata": {
        "id": "rqVriaVY6-YG"
      }
    },
    {
      "cell_type": "code",
      "source": [
        "a=np.ones((10,10))\n",
        "a[1:-1,1:-1]=0\n",
        "print(a)"
      ],
      "metadata": {
        "id": "WKIxOoN4D1Nr"
      },
      "execution_count": null,
      "outputs": []
    },
    {
      "cell_type": "markdown",
      "source": [
        "#### 16. How to add a border (filled with 0's) around an existing array? (★☆☆)"
      ],
      "metadata": {
        "id": "GlHZyCMo6-P9"
      }
    },
    {
      "cell_type": "code",
      "source": [
        "a=np.ones((10,10))\n",
        "a=np.pad(a,pad_with=1,mode='constant',constant_value=0)\n",
        "print(a)"
      ],
      "metadata": {
        "id": "2HyubPgxD1gW"
      },
      "execution_count": null,
      "outputs": []
    },
    {
      "cell_type": "markdown",
      "source": [
        "[numpy.pad](https://numpy.org/doc/stable/reference/generated/numpy.pad.html)"
      ],
      "metadata": {
        "id": "H0WzHZAPeAqJ"
      }
    },
    {
      "cell_type": "markdown",
      "source": [
        "#### 17. What is the result of the following expression? (★☆☆)\n",
        "```python\n",
        "0 * np.nan\n",
        "np.nan == np.nan\n",
        "np.inf > np.nan\n",
        "np.nan - np.nan\n",
        "np.nan in set([np.nan])\n",
        "0.3 == 3 * 0.1\n",
        "```"
      ],
      "metadata": {
        "id": "jFAVKhU_6-Iq"
      }
    },
    {
      "cell_type": "code",
      "source": [
        "print(0 * np.nan)\n",
        "print(np.nan == np.nan)\n",
        "print(np.inf > np.nan)\n",
        "print(np.nan - np.nan)\n",
        "print(np.nan in set([np.nan]))\n",
        "print(0.3 == 3 * 0.1)"
      ],
      "metadata": {
        "id": "CvDG0chAD1wp"
      },
      "execution_count": null,
      "outputs": []
    },
    {
      "cell_type": "markdown",
      "source": [
        "### 18. Create a 5x5 matrix with values 1,2,3,4 just below the diagonal (★☆☆)"
      ],
      "metadata": {
        "id": "AuD4zE6e6-BR"
      }
    },
    {
      "cell_type": "code",
      "source": [
        "a=np.diag(1+np.arange(4),k=-1)\n",
        "print(a)"
      ],
      "metadata": {
        "id": "Zmzja7JqD2CK"
      },
      "execution_count": null,
      "outputs": []
    },
    {
      "cell_type": "markdown",
      "source": [
        "[numpy.diag](https://numpy.org/doc/stable/reference/generated/numpy.diag.html)"
      ],
      "metadata": {
        "id": "ADapZ338orqJ"
      }
    },
    {
      "cell_type": "markdown",
      "source": [
        "#### 19. Create a 8x8 matrix and fill it with a checkerboard pattern (★☆☆)\n"
      ],
      "metadata": {
        "id": "qcN9gSs57KqD"
      }
    },
    {
      "cell_type": "code",
      "source": [
        "a=np.zeros((8,8),dtype=int)\n",
        "a[1::2,::2]=1\n",
        "a[::2,1::2]=1\n",
        "print(a)"
      ],
      "metadata": {
        "id": "Fofc0louD2Uv"
      },
      "execution_count": null,
      "outputs": []
    },
    {
      "cell_type": "markdown",
      "source": [
        "#### 20. Consider a (6,7,8) shape array, what is the index (x,y,z) of the 100th element? (★☆☆)"
      ],
      "metadata": {
        "id": "9nedvsJo7MZc"
      }
    },
    {
      "cell_type": "code",
      "source": [
        "print(np.unravel_index(99,(6,7,8)))"
      ],
      "metadata": {
        "id": "pNVpZNLqD2pa"
      },
      "execution_count": null,
      "outputs": []
    },
    {
      "cell_type": "markdown",
      "source": [
        "[numpy.unravel_index](https://numpy.org/doc/stable/reference/generated/numpy.unravel_index.html)"
      ],
      "metadata": {
        "id": "zn3zi2gGpd7P"
      }
    },
    {
      "cell_type": "markdown",
      "source": [
        "#### 21. Create a checkerboard 8x8 matrix using the tile function (★☆☆)"
      ],
      "metadata": {
        "id": "egMrRrpApwPp"
      }
    },
    {
      "cell_type": "markdown",
      "source": [
        "[numpy.tile](https://numpy.org/doc/stable/reference/generated/numpy.tile.html#numpy-tile)"
      ],
      "metadata": {
        "id": "3Ry6BJeQq0O6"
      }
    },
    {
      "cell_type": "code",
      "source": [
        "a=np.tile(np.array([[0,1],[1,0]],(4,4)))\n",
        "print(a)"
      ],
      "metadata": {
        "id": "YnhlPNUqpzz4"
      },
      "execution_count": null,
      "outputs": []
    },
    {
      "cell_type": "markdown",
      "source": [
        "#### 22. Normalize a 5x5 random matrix (★☆☆)"
      ],
      "metadata": {
        "id": "SQY_KWh3pwLf"
      }
    },
    {
      "cell_type": "code",
      "source": [
        "a=np.random.random((5,5))\n",
        "a=(a-np.mean(a))/(np.std(a))\n",
        "print(a)"
      ],
      "metadata": {
        "id": "MRmPhhpzqJXk"
      },
      "execution_count": null,
      "outputs": []
    },
    {
      "cell_type": "markdown",
      "source": [
        "#### 23. Create a custom dtype that describes a color as four unsigned bytes (RGBA) (★☆☆)"
      ],
      "metadata": {
        "id": "MYoPQQJ0pwId"
      }
    },
    {
      "cell_type": "code",
      "source": [
        "color=np.dtype([(\"r\",np.ubyte),\n",
        "                (\"g\",np.ubyte),\n",
        "                (\"b\",np.ubyte),\n",
        "                (\"a\",np.ubyte)])\n",
        "print(color)"
      ],
      "metadata": {
        "id": "9KIxtUgop8sL"
      },
      "execution_count": null,
      "outputs": []
    },
    {
      "cell_type": "markdown",
      "source": [
        "#### 24. Multiply a 5x3 matrix by a 3x2 matrix (real matrix product) (★☆☆)"
      ],
      "metadata": {
        "id": "-WkQ0OZPpwEu"
      }
    },
    {
      "cell_type": "code",
      "source": [
        "a=np.dot(np.ones((5,3)),np.ones((3,2)))\n",
        "print(a)"
      ],
      "metadata": {
        "id": "r183y0s_qAYo"
      },
      "execution_count": null,
      "outputs": []
    },
    {
      "cell_type": "markdown",
      "source": [
        "#### 25. Given a 1D array, negate all elements which are between 3 and 8, in place. (★☆☆)"
      ],
      "metadata": {
        "id": "RIcWoe1CpwAQ"
      }
    },
    {
      "cell_type": "code",
      "source": [
        "a=np.arrange(11)\n",
        "a[(3<a)&(a<8)]*=-1\n",
        "print(a)"
      ],
      "metadata": {
        "id": "pbk7faRhqKDu"
      },
      "execution_count": null,
      "outputs": []
    },
    {
      "cell_type": "markdown",
      "source": [
        "#### 26. What is the output of the following script? (★☆☆)\n",
        "```python\n",
        "# Author: Jake VanderPlas\n",
        "\n",
        "print(sum(range(5),-1))\n",
        "from numpy import *\n",
        "print(sum(range(5),-1))\n",
        "```"
      ],
      "metadata": {
        "id": "c6wGSNg3pv6C"
      }
    },
    {
      "cell_type": "code",
      "source": [
        "print(sum(range(5),-1))\n",
        "from numpy import *\n",
        "print(sum(range(5),-1))"
      ],
      "metadata": {
        "id": "Y3BUXSyEp_gh"
      },
      "execution_count": null,
      "outputs": []
    },
    {
      "cell_type": "markdown",
      "source": [
        "#### 27. Consider an integer vector Z, which of these expressions are legal? (★☆☆)\n",
        "```python\n",
        "Z**Z\n",
        "2 << Z >> 2\n",
        "Z <- Z\n",
        "1j*Z\n",
        "Z/1/1\n",
        "Z<Z>Z\n",
        "```"
      ],
      "metadata": {
        "id": "52dtHyP7pvxt"
      }
    },
    {
      "cell_type": "code",
      "source": [
        "Z=np.arrange(5)"
      ],
      "metadata": {
        "id": "YhxPbyXDsZGO"
      },
      "execution_count": null,
      "outputs": []
    },
    {
      "cell_type": "code",
      "source": [
        "Z**Z"
      ],
      "metadata": {
        "id": "NSlv4HpFqK71"
      },
      "execution_count": null,
      "outputs": []
    },
    {
      "cell_type": "code",
      "source": [
        "2 << Z >> 2"
      ],
      "metadata": {
        "id": "NJNyGrczsTUR"
      },
      "execution_count": null,
      "outputs": []
    },
    {
      "cell_type": "code",
      "source": [
        "Z <- Z"
      ],
      "metadata": {
        "id": "cKnUTKl6sUPp"
      },
      "execution_count": null,
      "outputs": []
    },
    {
      "cell_type": "code",
      "source": [
        "1j*Z"
      ],
      "metadata": {
        "id": "c2LKshxksVBB"
      },
      "execution_count": null,
      "outputs": []
    },
    {
      "cell_type": "code",
      "source": [
        "Z/1/1"
      ],
      "metadata": {
        "id": "i_MC0P_jsWSC"
      },
      "execution_count": null,
      "outputs": []
    },
    {
      "cell_type": "code",
      "source": [
        "Z<Z>Z"
      ],
      "metadata": {
        "id": "Drt6M3gpsW09"
      },
      "execution_count": null,
      "outputs": []
    },
    {
      "cell_type": "markdown",
      "source": [
        "#### 28. What are the result of the following expressions? (★☆☆)\n",
        "```python\n",
        "np.array(0) / np.array(0)\n",
        "np.array(0) // np.array(0)\n",
        "np.array([np.nan]).astype(int).astype(float)\n",
        "```"
      ],
      "metadata": {
        "id": "IzwGa7qSpvtQ"
      }
    },
    {
      "cell_type": "code",
      "source": [
        "print(np.array(0) / np.array(0))\n",
        "print(np.array(0) // np.array(0))\n",
        "print(np.array([np.nan]).astype(int).astype(float))"
      ],
      "metadata": {
        "id": "b2UmyQnfqLUC"
      },
      "execution_count": null,
      "outputs": []
    },
    {
      "cell_type": "markdown",
      "source": [
        "#### 29. How to round away from zero a float array ? (★☆☆)"
      ],
      "metadata": {
        "id": "VMktCPSppvoq"
      }
    },
    {
      "cell_type": "markdown",
      "source": [
        "[numpy.ceil](https://numpy.org/doc/stable/reference/generated/numpy.ceil.html#numpy.ceil)"
      ],
      "metadata": {
        "id": "2xFWmOSHgjZZ"
      }
    },
    {
      "cell_type": "code",
      "source": [
        "a = np.random.uniform(-10,+10,10)\n",
        "print(np.copysign(np.ceil(np.abs(Z)), Z))\n",
        "\n",
        "# More readable but less efficient\n",
        "print(np.where(Z>0, np.ceil(Z), np.floor(Z)))"
      ],
      "metadata": {
        "id": "KpzkaUYJqLnR"
      },
      "execution_count": null,
      "outputs": []
    },
    {
      "cell_type": "markdown",
      "source": [
        "#### 30. How to find common values between two arrays? (★☆☆)"
      ],
      "metadata": {
        "id": "nZ8Qtmkjpvit"
      }
    },
    {
      "cell_type": "code",
      "source": [
        "a1 = np.random.randint(0,10,10)\n",
        "a2 = np.random.randint(0,10,10)\n",
        "print(np.intersect1d(Z1,Z2))"
      ],
      "metadata": {
        "id": "LtUvVLouqL9A"
      },
      "execution_count": null,
      "outputs": []
    },
    {
      "cell_type": "markdown",
      "source": [
        "#### 31. How to ignore all numpy warnings (not recommended)? (★☆☆)"
      ],
      "metadata": {
        "id": "pScI9zXupvWb"
      }
    },
    {
      "cell_type": "code",
      "source": [
        "# Suicide mode on\n",
        "defaults = np.seterr(all=\"ignore\")\n",
        "a = np.ones(1) / 0\n",
        "\n",
        "# Back to sanity\n",
        "_ = np.seterr(**defaults)\n",
        "\n",
        "# Equivalently with a context manager\n",
        "with np.errstate(all=\"ignore\"):\n",
        "    np.arange(3) / 0"
      ],
      "metadata": {
        "id": "CeWnnxIGqOP-"
      },
      "execution_count": null,
      "outputs": []
    },
    {
      "cell_type": "markdown",
      "source": [
        "#### 32. Is the following expressions true? (★☆☆)\n",
        "```python\n",
        "np.sqrt(-1) == np.emath.sqrt(-1)\n",
        "```"
      ],
      "metadata": {
        "id": "S7UJ2rvMvmNz"
      }
    },
    {
      "cell_type": "code",
      "source": [
        "np.sqrt(-1) == np.emath.sqrt(-1)"
      ],
      "metadata": {
        "id": "ZVJkqSkIgYud"
      },
      "execution_count": null,
      "outputs": []
    },
    {
      "cell_type": "markdown",
      "source": [
        "#### 33. How to get the dates of yesterday, today and tomorrow? (★☆☆)"
      ],
      "metadata": {
        "id": "J_tC6RrcvnG1"
      }
    },
    {
      "cell_type": "code",
      "source": [
        "yesterday = np.datetime64('today') - np.timedelta64(1)\n",
        "today     = np.datetime64('today')\n",
        "tomorrow  = np.datetime64('today') + np.timedelta64(1)"
      ],
      "metadata": {
        "id": "JN_V3FpCslOo"
      },
      "execution_count": null,
      "outputs": []
    },
    {
      "cell_type": "markdown",
      "source": [
        "#### 34. How to get all the dates corresponding to the month of July 2016? (★★☆)"
      ],
      "metadata": {
        "id": "RYfymoL-voiD"
      }
    },
    {
      "cell_type": "code",
      "source": [
        "a = np.arange('2016-07', '2016-08', dtype='datetime64[D]')\n",
        "print(Z)"
      ],
      "metadata": {
        "id": "7OUyvASMslhi"
      },
      "execution_count": null,
      "outputs": []
    },
    {
      "cell_type": "markdown",
      "source": [
        "#### 35. How to compute ((A+B)*(-A/2)) in place (without copy)? (★★☆)"
      ],
      "metadata": {
        "id": "shJOh3x5vpAs"
      }
    },
    {
      "cell_type": "code",
      "source": [
        "a=np.ones(3)*1\n",
        "b=np.ones(3)*2\n",
        "c=np.add(a,b)\n",
        "d=np.devide(a,2)\n",
        "e=np.multiply(c,np.negative(d))\n",
        "print(e)"
      ],
      "metadata": {
        "id": "Q5T1d5Susl09"
      },
      "execution_count": null,
      "outputs": []
    },
    {
      "cell_type": "markdown",
      "source": [
        "#### 36. Extract the integer part of a random array of positive numbers using 4 different methods (★★☆)"
      ],
      "metadata": {
        "id": "9yhHNP7ovqxy"
      }
    },
    {
      "cell_type": "markdown",
      "source": [
        "[numpy-random-uniform](https://numpy.org/doc/stable/reference/random/generated/numpy.random.uniform.html#numpy-random-uniform)"
      ],
      "metadata": {
        "id": "fpriXKhj1Z3D"
      }
    },
    {
      "cell_type": "code",
      "source": [
        "a=np.random.uniform(0,10,10)\n",
        "print(a - a%1)\n",
        "print(a // 1)\n",
        "print(np.floor(a))\n",
        "print(a.astype(int))\n",
        "print(np.trunc(a))"
      ],
      "metadata": {
        "id": "WtZGUQ8qsmVd"
      },
      "execution_count": null,
      "outputs": []
    },
    {
      "cell_type": "markdown",
      "source": [
        "#### 37. Create a 5x5 matrix with row values ranging from 0 to 4 (★★☆)"
      ],
      "metadata": {
        "id": "iX8Eda_6vrDk"
      }
    },
    {
      "cell_type": "code",
      "source": [],
      "metadata": {
        "id": "2D0TqqMosmzk"
      },
      "execution_count": null,
      "outputs": []
    },
    {
      "cell_type": "markdown",
      "source": [
        "#### 38. Consider a generator function that generates 10 integers and use it to build an array (★☆☆)"
      ],
      "metadata": {
        "id": "NKd7IgHxvv5S"
      }
    },
    {
      "cell_type": "code",
      "source": [],
      "metadata": {
        "id": "tx2PygcxsnJn"
      },
      "execution_count": null,
      "outputs": []
    },
    {
      "cell_type": "markdown",
      "source": [
        "#### 39. Create a vector of size 10 with values ranging from 0 to 1, both excluded (★★☆)"
      ],
      "metadata": {
        "id": "uKm_OQU7vyKi"
      }
    },
    {
      "cell_type": "code",
      "source": [],
      "metadata": {
        "id": "NVK_sEPXsnjy"
      },
      "execution_count": null,
      "outputs": []
    },
    {
      "cell_type": "markdown",
      "source": [
        "#### 40. Create a random vector of size 10 and sort it (★★☆)"
      ],
      "metadata": {
        "id": "KaMa3N8lvzLY"
      }
    },
    {
      "cell_type": "code",
      "source": [],
      "metadata": {
        "id": "C1QNCrROsn7D"
      },
      "execution_count": null,
      "outputs": []
    },
    {
      "cell_type": "markdown",
      "source": [
        "#### 41. How to sum a small array faster than np.sum? (★★☆)\n",
        "\n",
        "#### 42. Consider two random array A and B, check if they are equal (★★☆)\n",
        "\n",
        "#### 43. Make an array immutable (read-only) (★★☆)\n",
        "\n",
        "#### 44. Consider a random 10x2 matrix representing cartesian coordinates, convert them to polar coordinates (★★☆)\n",
        "\n",
        "#### 45. Create random vector of size 10 and replace the maximum value by 0 (★★☆)\n",
        "\n",
        "#### 46. Create a structured array with `x` and `y` coordinates covering the [0,1]x[0,1] area (★★☆)\n",
        "\n",
        "#### 47. Given two arrays, X and Y, construct the Cauchy matrix C (Cij =1/(xi - yj)) (★★☆)\n",
        "\n",
        "#### 48. Print the minimum and maximum representable value for each numpy scalar type (★★☆)\n",
        "\n",
        "#### 49. How to print all the values of an array? (★★☆)\n",
        "\n",
        "#### 50. How to find the closest value (to a given scalar) in a vector? (★★☆)"
      ],
      "metadata": {
        "id": "wwRhYDLzv-bo"
      }
    }
  ]
}